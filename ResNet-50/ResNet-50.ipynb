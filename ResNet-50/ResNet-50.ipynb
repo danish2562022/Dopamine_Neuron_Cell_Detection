{
 "cells": [
  {
   "cell_type": "code",
   "execution_count": 3,
   "id": "d70090a8",
   "metadata": {},
   "outputs": [
    {
     "name": "stdout",
     "output_type": "stream",
     "text": [
      "2.6.0\n"
     ]
    }
   ],
   "source": [
    "import tensorflow as tf\n",
    "import numpy as np\n",
    "import matplotlib.pyplot as plt\n",
    "print(tf.__version__)"
   ]
  },
  {
   "cell_type": "code",
   "execution_count": 4,
   "id": "aafe7f0f",
   "metadata": {},
   "outputs": [],
   "source": [
    "from tensorflow.python.keras.utils.vis_utils import plot_model"
   ]
  },
  {
   "cell_type": "code",
   "execution_count": 5,
   "id": "6ce47fac",
   "metadata": {},
   "outputs": [],
   "source": [
    "from tensorflow.keras.models import Model\n",
    "from tensorflow.keras.layers import Dense, Input"
   ]
  },
  {
   "cell_type": "code",
   "execution_count": 6,
   "id": "100dd1cf",
   "metadata": {},
   "outputs": [],
   "source": [
    "class IdentityBlock(tf.keras.Model):\n",
    "    \n",
    "    def __init__(self,filters):\n",
    "        super(IdentityBlock,self).__init__()\n",
    "        f1,f2=filters\n",
    "        self.conv1=tf.keras.layers.Conv2D(f1,kernel_size=(1,1),padding='valid',kernel_regularizer=l2(0.001))\n",
    "        self.bn1=tf.keras.layers.BatchNormalization()\n",
    "        \n",
    "        self.conv2=tf.keras.layers.Conv2D(f1,kernel_size=(3,3),padding='same',kernel_regularizer=l2(0.001))\n",
    "        self.bn2=tf.keras.layers.BatchNormalization()\n",
    "        \n",
    "        self.conv3=tf.keras.layers.Conv2D(f2,kernel_size=(1,1),padding='valid',kernel_regularizer=l2(0.001))\n",
    "        self.bn3=tf.keras.layers.BatchNormalization()\n",
    "        \n",
    "        self.act = tf.keras.layers.Activation('relu')\n",
    "        self.add = tf.keras.layers.Add()\n",
    "        \n",
    "    \n",
    "    def call(self, input_tensor):\n",
    "        x = self.conv1(input_tensor)\n",
    "        x = self.bn1(x)\n",
    "        x = self.act(x)\n",
    "\n",
    "        x = self.conv2(x)\n",
    "        x = self.bn2(x)\n",
    "        x = self.act(x)\n",
    "\n",
    "        x = self.conv3(x)\n",
    "        x = self.bn3(x)\n",
    "        x = self.act(x)\n",
    "        \n",
    "        x = self.add([x, input_tensor])\n",
    "        x = self.act(x)\n",
    "        return x\n",
    "    \n",
    "    \n",
    "        \n",
    "        \n",
    "        \n",
    "        \n",
    "    "
   ]
  },
  {
   "cell_type": "code",
   "execution_count": 7,
   "id": "89df84c5",
   "metadata": {},
   "outputs": [],
   "source": [
    "class ResnetBlock(tf.keras.Model):\n",
    "    \n",
    "    def __init__(self,s,fiters,kernel_size):\n",
    "        self(ResNet,self).__init__()\n",
    "        f1,f2=filters\n",
    "        self.conv1 = tf.keras.layers.Conv2D(f1,kernel_size=(1,1),strides=(s,s),padding='valid',kernel_regulizer=l2(0.001))\n",
    "        self.bn1=tf.keras.layers.BatchNormalization()\n",
    "        \n",
    "        self.conv2=tf.keras.layers.Conv2D(f1,kernel_size=(3,3),padding='same',kernel_regularizer=l2(0.001))\n",
    "        self.bn2=tf.keras.layers.BatchNormalization()\n",
    "        \n",
    "        self.conv3=tf.keras.layers.Conv2D(f2,kernel_size=(1,1),padding='valid',kernel_regularizer=l2(0.001))\n",
    "        self.bn3=tf.keras.layers.BatchNormalization()\n",
    "        \n",
    "        self.act = tf.keras.layers.Activation('relu')\n",
    "        self.add = tf.keras.layers.Add()\n",
    "        \n",
    "        self.convskip= tf.keras.layers.Conv2D(f2,kernel_size=(1,1),strides=(s,s),padding='valid',kernel_regulizer=l2(0.001))\n",
    "        self.bnskip=tf.keras.layers.BatchNormalization()\n",
    "        \n",
    "    \n",
    "    def call(self,input_tensor):\n",
    "        \n",
    "        x = self.conv1(input_tensor)\n",
    "        x = self.bn1(x)\n",
    "        x = self.act(x)\n",
    "\n",
    "        x = self.conv2(x)\n",
    "        x = self.bn2(x)\n",
    "        x = self.act(x)\n",
    "\n",
    "        x = self.conv3(x)\n",
    "        x = self.bn3(x)\n",
    "        x = self.act(x)\n",
    "        \n",
    "        input_tensor=self.convskip(input_tensor)\n",
    "        input_tensor=self.bnskip(input_tensor)\n",
    "        \n",
    "        x = self.add([x, input_tensor])\n",
    "        x = self.act(x)\n",
    "        \n",
    "        return x\n",
    "        \n",
    "        "
   ]
  },
  {
   "cell_type": "code",
   "execution_count": null,
   "id": "5d6ffe07",
   "metadata": {},
   "outputs": [],
   "source": [
    "class ResNet(tf.keras.Model):\n",
    "    \n",
    "    def __init__(self,num_classes):\n",
    "        super(ResNet,self).__init__()\n",
    "        self.conv = tf.keras.layers.Conv2D(kernel_size=(7, 7), strides=(2, 2))\n",
    "        self.bn = tf.keras.layers.BatchNormalization()\n",
    "        self.act = tf.keras.layers.Activation('relu')\n",
    "        self.max_pool = tf.keras.layers.MaxPool2D((3, 3))\n",
    "        self.id1=\n",
    "        \n",
    "            "
   ]
  }
 ],
 "metadata": {
  "kernelspec": {
   "display_name": "Python 3 (ipykernel)",
   "language": "python",
   "name": "python3"
  },
  "language_info": {
   "codemirror_mode": {
    "name": "ipython",
    "version": 3
   },
   "file_extension": ".py",
   "mimetype": "text/x-python",
   "name": "python",
   "nbconvert_exporter": "python",
   "pygments_lexer": "ipython3",
   "version": "3.8.10"
  }
 },
 "nbformat": 4,
 "nbformat_minor": 5
}
